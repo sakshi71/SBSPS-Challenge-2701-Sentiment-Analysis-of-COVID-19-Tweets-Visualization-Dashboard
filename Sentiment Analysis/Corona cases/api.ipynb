{
 "cells": [
  {
   "cell_type": "markdown",
   "metadata": {},
   "source": [
    "## Data Source"
   ]
  },
  {
   "cell_type": "markdown",
   "metadata": {},
   "source": [
    "https://api.covid19india.org/  \n",
    "https://api.covid19india.org/csv/"
   ]
  },
  {
   "cell_type": "markdown",
   "metadata": {},
   "source": [
    "## Import libraries"
   ]
  },
  {
   "cell_type": "code",
   "execution_count": 1,
   "metadata": {},
   "outputs": [],
   "source": [
    "import requests     # to get web contents\n",
    "import json         # to parse json contents\n",
    "import csv          # to parse csv files\n",
    "import numpy as np  # for numerical operations  \n",
    "import pandas as pd # to store and analysis data in dataframes"
   ]
  },
  {
   "cell_type": "markdown",
   "metadata": {},
   "source": [
    "## Raw data"
   ]
  },
  {
   "cell_type": "code",
   "execution_count": null,
   "metadata": {},
   "outputs": [],
   "source": [
    "# read data\n",
    "raw_1 = pd.read_csv('https://api.covid19india.org/csv/latest/raw_data1.csv')\n",
    "raw_2 = pd.read_csv('https://api.covid19india.org/csv/latest/raw_data2.csv')\n",
    "raw_3 = pd.read_csv('https://api.covid19india.org/csv/latest/raw_data3.csv')\n",
    "raw_4 = pd.read_csv('https://api.covid19india.org/csv/latest/raw_data4.csv')\n",
    "raw_5 = pd.read_csv('https://api.covid19india.org/csv/latest/raw_data5.csv')\n",
    "raw_6 = pd.read_csv('https://api.covid19india.org/csv/latest/raw_data6.csv')"
   ]
  },
  {
   "cell_type": "code",
   "execution_count": null,
   "metadata": {},
   "outputs": [],
   "source": [
    "# concatenate dfs\n",
    "full_data = pd.concat([raw_1, raw_2, raw_3, raw_4, raw_5, raw_6])\n",
    "\n",
    "# save to csv`\n",
    "full_data.to_csv('./Dataset/patients_data.csv', index=False)\n",
    "\n",
    "# first few rows\n",
    "full_data.head()"
   ]
  },
  {
   "cell_type": "markdown",
   "metadata": {},
   "source": [
    "## Daily cases"
   ]
  },
  {
   "cell_type": "code",
   "execution_count": null,
   "metadata": {},
   "outputs": [],
   "source": [
    "# read data\n",
    "day_wise = pd.read_csv('https://api.covid19india.org/csv/latest/case_time_series.csv')\n",
    "\n",
    "# save as a .csv file\n",
    "day_wise.to_csv('./Dataset/nation_level_daily.csv', index=False)\n",
    "\n",
    "# first few rows\n",
    "day_wise.head()"
   ]
  },
  {
   "cell_type": "markdown",
   "metadata": {},
   "source": [
    "## Latest - State wise "
   ]
  },
  {
   "cell_type": "code",
   "execution_count": null,
   "metadata": {},
   "outputs": [],
   "source": [
    "# read data\n",
    "latest = pd.read_csv('https://api.covid19india.org/csv/latest/state_wise.csv')\n",
    "\n",
    "# save as a .csv file`\n",
    "latest.to_csv('./Dataset/state_level_latest.csv', index=False)\n",
    "\n",
    "# first few rows\n",
    "latest.head()"
   ]
  },
  {
   "cell_type": "markdown",
   "metadata": {},
   "source": [
    "## State wise daily"
   ]
  },
  {
   "cell_type": "code",
   "execution_count": null,
   "metadata": {},
   "outputs": [],
   "source": [
    "# read data\n",
    "state_wise_daily = pd.read_csv('https://api.covid19india.org/csv/latest/state_wise_daily.csv')\n",
    "\n",
    "# melt dataframe\n",
    "state_wise_daily = state_wise_daily.melt(id_vars=['Date', 'Status'], \n",
    "                                         value_vars=state_wise_daily.columns[2:], \n",
    "                                         var_name='State', value_name='Count')\n",
    "\n",
    "# pivot table\n",
    "state_wise_daily = state_wise_daily.pivot_table(index=['Date', 'State'], \n",
    "                                                columns=['Status'], \n",
    "                                                values='Count').reset_index()\n",
    "\n",
    "# map state names to state codes\n",
    "state_codes = {code:state for code, state in zip(latest['State_code'], latest['State'])}\n",
    "state_codes['DD'] = 'Daman and Diu'\n",
    "state_wise_daily['State_Name'] = state_wise_daily['State'].map(state_codes)\n",
    "\n",
    "# save as a .csv file\n",
    "state_wise_daily.to_csv('./Dataset/state_level_daily.csv')\n",
    "\n",
    "# first few rows\n",
    "state_wise_daily.head()"
   ]
  },
  {
   "cell_type": "markdown",
   "metadata": {},
   "source": [
    "## District wise"
   ]
  },
  {
   "cell_type": "code",
   "execution_count": null,
   "metadata": {},
   "outputs": [],
   "source": [
    "# read data\n",
    "district_wise = pd.read_csv('https://api.covid19india.org/csv/latest/district_wise.csv')\n",
    "\n",
    "# save as .csv file\n",
    "district_wise.to_csv('district_level_latest.csv', index=False)\n",
    "\n",
    "# first few rows\n",
    "district_wise.head()"
   ]
  },
  {
   "cell_type": "markdown",
   "metadata": {},
   "source": [
    "## Tests"
   ]
  },
  {
   "cell_type": "code",
   "execution_count": null,
   "metadata": {},
   "outputs": [],
   "source": [
    "# read data\n",
    "tests_day_wise = pd.read_csv('https://api.covid19india.org/csv/latest/tested_numbers_icmr_data.csv')\n",
    "\n",
    "# save as .csv file\n",
    "tests_day_wise.to_csv('./Dataset/tests_day_wise.csv', index=False)\n",
    "\n",
    "# first few rows\n",
    "tests_day_wise.head()"
   ]
  },
  {
   "cell_type": "markdown",
   "metadata": {},
   "source": [
    "## State wise tests no."
   ]
  },
  {
   "cell_type": "code",
   "execution_count": null,
   "metadata": {},
   "outputs": [],
   "source": [
    "# read data\n",
    "tests_state_wise = pd.read_csv('https://api.covid19india.org/csv/latest/statewise_tested_numbers_data.csv')\n",
    "\n",
    "# save as .csv file\n",
    "tests_state_wise.to_csv('./Dataset/tests_state_wise.csv', index=False)\n",
    "\n",
    "# first few rows\n",
    "tests_state_wise.head(3)"
   ]
  },
  {
   "cell_type": "code",
   "execution_count": null,
   "metadata": {},
   "outputs": [],
   "source": []
  }
 ],
 "metadata": {
  "kernelspec": {
   "display_name": "Python 3",
   "language": "python",
   "name": "python3"
  },
  "language_info": {
   "codemirror_mode": {
    "name": "ipython",
    "version": 3
   },
   "file_extension": ".py",
   "mimetype": "text/x-python",
   "name": "python",
   "nbconvert_exporter": "python",
   "pygments_lexer": "ipython3",
   "version": "3.7.6"
  }
 },
 "nbformat": 4,
 "nbformat_minor": 4
}
