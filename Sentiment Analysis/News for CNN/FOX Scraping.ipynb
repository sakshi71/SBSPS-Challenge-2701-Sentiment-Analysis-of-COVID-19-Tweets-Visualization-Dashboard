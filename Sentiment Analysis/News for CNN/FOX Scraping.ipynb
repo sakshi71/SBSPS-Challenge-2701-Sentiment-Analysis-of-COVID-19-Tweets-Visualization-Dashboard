{
 "cells": [
  {
   "cell_type": "code",
   "execution_count": 0,
   "metadata": {
    "ExecuteTime": {
     "end_time": "2020-04-10T17:00:00.791581Z",
     "start_time": "2020-04-10T17:00:00.770668Z"
    },
    "colab": {},
    "colab_type": "code",
    "id": "wQ_-y6tHc9v2"
   },
   "outputs": [],
   "source": [
    "import pandas as pd\n",
    "import requests\n",
    "from bs4 import BeautifulSoup \n",
    "import time\n",
    "import re\n",
    "import os\n",
    "from tqdm import notebook\n",
    "from dateutil import parser\n",
    "import random"
   ]
  },
  {
   "cell_type": "code",
   "execution_count": 0,
   "metadata": {
    "ExecuteTime": {
     "end_time": "2020-04-10T18:01:19.477168Z",
     "start_time": "2020-04-10T18:01:19.069257Z"
    },
    "colab": {},
    "colab_type": "code",
    "id": "Y6ECik4Uc9v6",
    "outputId": "f9b49895-80c6-4349-8316-e267f553e494"
   },
   "outputs": [
    {
     "data": {
      "text/html": [
       "<div>\n",
       "<style scoped>\n",
       "    .dataframe tbody tr th:only-of-type {\n",
       "        vertical-align: middle;\n",
       "    }\n",
       "\n",
       "    .dataframe tbody tr th {\n",
       "        vertical-align: top;\n",
       "    }\n",
       "\n",
       "    .dataframe thead th {\n",
       "        text-align: right;\n",
       "    }\n",
       "</style>\n",
       "<table border=\"1\" class=\"dataframe\">\n",
       "  <thead>\n",
       "    <tr style=\"text-align: right;\">\n",
       "      <th></th>\n",
       "      <th>published</th>\n",
       "      <th>title</th>\n",
       "      <th>summary</th>\n",
       "      <th>link</th>\n",
       "    </tr>\n",
       "  </thead>\n",
       "  <tbody>\n",
       "    <tr>\n",
       "      <th>0</th>\n",
       "      <td>24 mins ago</td>\n",
       "      <td>Wife of Edmonton Oilers' Colby Cave gives upda...</td>\n",
       "      <td>The wife of Edmonton Oilers forward Colby Cave...</td>\n",
       "      <td>https://www.foxnews.com/sports/wife-of-edmonto...</td>\n",
       "    </tr>\n",
       "    <tr>\n",
       "      <th>1</th>\n",
       "      <td>1 hour ago</td>\n",
       "      <td>Body of RFK granddaughter’s son, 8, recovered ...</td>\n",
       "      <td>The body of 8-year-old Gideon McKean was recov...</td>\n",
       "      <td>https://www.foxnews.com/us/body-of-rfk-grandda...</td>\n",
       "    </tr>\n",
       "    <tr>\n",
       "      <th>2</th>\n",
       "      <td>1 hour ago</td>\n",
       "      <td>Hundreds of inmates at Washington state correc...</td>\n",
       "      <td>Authorities in Washington state responded late...</td>\n",
       "      <td>https://www.foxnews.com/us/hundreds-of-inmates...</td>\n",
       "    </tr>\n",
       "    <tr>\n",
       "      <th>3</th>\n",
       "      <td>1 hour ago</td>\n",
       "      <td>Nikki Haley, in op-ed, says coronavirus respon...</td>\n",
       "      <td>Responsibility for combating the coronavirus o...</td>\n",
       "      <td>https://www.foxnews.com/politics/nikki-haley-i...</td>\n",
       "    </tr>\n",
       "    <tr>\n",
       "      <th>4</th>\n",
       "      <td>2 hours ago</td>\n",
       "      <td>Barr disappointed by partisan attacks leveled ...</td>\n",
       "      <td>Attorney General William Barr told \"The Ingrah...</td>\n",
       "      <td>https://www.foxnews.com/media/ag-william-barr-...</td>\n",
       "    </tr>\n",
       "  </tbody>\n",
       "</table>\n",
       "</div>"
      ],
      "text/plain": [
       "      published                                              title  \\\n",
       "0  24 mins ago   Wife of Edmonton Oilers' Colby Cave gives upda...   \n",
       "1   1 hour ago   Body of RFK granddaughter’s son, 8, recovered ...   \n",
       "2   1 hour ago   Hundreds of inmates at Washington state correc...   \n",
       "3   1 hour ago   Nikki Haley, in op-ed, says coronavirus respon...   \n",
       "4  2 hours ago   Barr disappointed by partisan attacks leveled ...   \n",
       "\n",
       "                                             summary  \\\n",
       "0  The wife of Edmonton Oilers forward Colby Cave...   \n",
       "1  The body of 8-year-old Gideon McKean was recov...   \n",
       "2  Authorities in Washington state responded late...   \n",
       "3  Responsibility for combating the coronavirus o...   \n",
       "4  Attorney General William Barr told \"The Ingrah...   \n",
       "\n",
       "                                                link  \n",
       "0  https://www.foxnews.com/sports/wife-of-edmonto...  \n",
       "1  https://www.foxnews.com/us/body-of-rfk-grandda...  \n",
       "2  https://www.foxnews.com/us/hundreds-of-inmates...  \n",
       "3  https://www.foxnews.com/politics/nikki-haley-i...  \n",
       "4  https://www.foxnews.com/media/ag-william-barr-...  "
      ]
     },
     "execution_count": 91,
     "metadata": {
      "tags": []
     },
     "output_type": "execute_result"
    }
   ],
   "source": [
    "os.chdir(r'C:/Users/saksh/Sentiment Analysis/News for CNN/')\n",
    "foxnews_article_1750 = pd.read_excel('foxnews_article.xlsx').iloc[0:1750,]\n",
    "foxnews_article_1750.head()"
   ]
  },
  {
   "cell_type": "code",
   "execution_count": 0,
   "metadata": {
    "ExecuteTime": {
     "end_time": "2020-04-10T18:01:21.254849Z",
     "start_time": "2020-04-10T18:01:21.244876Z"
    },
    "colab": {},
    "colab_type": "code",
    "id": "kVFFUa-1c9v9",
    "outputId": "b6ed6489-afb9-4f38-addd-56cd8d4972b7"
   },
   "outputs": [
    {
     "data": {
      "text/plain": [
       "1750"
      ]
     },
     "execution_count": 92,
     "metadata": {
      "tags": []
     },
     "output_type": "execute_result"
    }
   ],
   "source": [
    "len(foxnews_article_1750)"
   ]
  },
  {
   "cell_type": "code",
   "execution_count": 0,
   "metadata": {
    "ExecuteTime": {
     "end_time": "2020-04-10T18:01:22.753034Z",
     "start_time": "2020-04-10T18:01:22.744075Z"
    },
    "colab": {},
    "colab_type": "code",
    "id": "RKLKaBoCc9wA"
   },
   "outputs": [],
   "source": [
    "def webcapture(url):\n",
    "    headers = {\n",
    "   # pretend I am a browser\n",
    "   'User-Agent': 'Mozilla/5.0',\n",
    "   }\n",
    "    session = requests.Session() #setup session\n",
    "    data = session.get(url, headers=headers) #scrape the data\n",
    "    soup = BeautifulSoup(data.text, 'html.parser') #parse the data\n",
    "    return soup #return the parsed data"
   ]
  },
  {
   "cell_type": "code",
   "execution_count": 0,
   "metadata": {
    "ExecuteTime": {
     "end_time": "2020-04-10T18:26:13.419745Z",
     "start_time": "2020-04-10T18:01:28.868487Z"
    },
    "colab": {},
    "colab_type": "code",
    "id": "iQ4Vgkkrc9wD",
    "outputId": "b382b83c-1ba7-4d36-e522-a11da7119d30"
   },
   "outputs": [
    {
     "name": "stderr",
     "output_type": "stream",
     "text": [
      "1750it [24:44,  1.10s/it]\n"
     ]
    }
   ],
   "source": [
    "body = []\n",
    "published_time_list = []\n",
    "# enumerated_links = enumerate(foxnews_article_1750_3500['link'][:3])\n",
    "\n",
    "for idx in notebook.tqdm(range(1750+575, 3500)):\n",
    "    fox=webcapture(foxnews_article_1750_3500['link'][idx])\n",
    "       \n",
    "    try: \n",
    "        published_time = parser.parse(fox.find('meta', {'data-hid' : 'dc.date'})['content'])\n",
    "\n",
    "        text_elements_list = []\n",
    "        text_elements = fox.find_all('p')\n",
    "        for x in text_elements[:len(text_elements)]:\n",
    "            try:\n",
    "                if x['class'] is None:\n",
    "                    if x['class'][0] == 'copyright':\n",
    "                        text_elements_list.append(x.text)\n",
    "            except:\n",
    "                text_elements_list.append(x.text)\n",
    "        text = ' '.join(text_elements_list)\n",
    "\n",
    "\n",
    "        body.append(text)\n",
    "        published_time_list.append(published_time)\n",
    "\n",
    "    except:\n",
    "        body.append(idx)\n",
    "        published_time_list.append(idx)\n",
    "        \n",
    "    time.sleep(random.randint(2,4) + random.random())"
   ]
  },
  {
   "cell_type": "code",
   "execution_count": 0,
   "metadata": {
    "ExecuteTime": {
     "end_time": "2020-04-10T18:26:13.442570Z",
     "start_time": "2020-04-10T18:26:13.423644Z"
    },
    "colab": {},
    "colab_type": "code",
    "id": "Rhu8ZLKqc9wG",
    "outputId": "a70c048f-d448-4e97-8d3e-9f60c7db6426"
   },
   "outputs": [
    {
     "data": {
      "text/html": [
       "<div>\n",
       "<style scoped>\n",
       "    .dataframe tbody tr th:only-of-type {\n",
       "        vertical-align: middle;\n",
       "    }\n",
       "\n",
       "    .dataframe tbody tr th {\n",
       "        vertical-align: top;\n",
       "    }\n",
       "\n",
       "    .dataframe thead th {\n",
       "        text-align: right;\n",
       "    }\n",
       "</style>\n",
       "<table border=\"1\" class=\"dataframe\">\n",
       "  <thead>\n",
       "    <tr style=\"text-align: right;\">\n",
       "      <th></th>\n",
       "      <th>published</th>\n",
       "      <th>title</th>\n",
       "      <th>summary</th>\n",
       "      <th>link</th>\n",
       "      <th>body</th>\n",
       "    </tr>\n",
       "  </thead>\n",
       "  <tbody>\n",
       "    <tr>\n",
       "      <th>0</th>\n",
       "      <td>24 mins ago</td>\n",
       "      <td>Wife of Edmonton Oilers' Colby Cave gives upda...</td>\n",
       "      <td>The wife of Edmonton Oilers forward Colby Cave...</td>\n",
       "      <td>https://www.foxnews.com/sports/wife-of-edmonto...</td>\n",
       "      <td>The wife of Edmonton Oilers forward Colby Cave...</td>\n",
       "    </tr>\n",
       "    <tr>\n",
       "      <th>1</th>\n",
       "      <td>1 hour ago</td>\n",
       "      <td>Body of RFK granddaughter’s son, 8, recovered ...</td>\n",
       "      <td>The body of 8-year-old Gideon McKean was recov...</td>\n",
       "      <td>https://www.foxnews.com/us/body-of-rfk-grandda...</td>\n",
       "      <td>The body of 8-year-old Gideon McKean was recov...</td>\n",
       "    </tr>\n",
       "    <tr>\n",
       "      <th>2</th>\n",
       "      <td>1 hour ago</td>\n",
       "      <td>Hundreds of inmates at Washington state correc...</td>\n",
       "      <td>Authorities in Washington state responded late...</td>\n",
       "      <td>https://www.foxnews.com/us/hundreds-of-inmates...</td>\n",
       "      <td>Get all the latest news on coronavirus and mor...</td>\n",
       "    </tr>\n",
       "    <tr>\n",
       "      <th>3</th>\n",
       "      <td>1 hour ago</td>\n",
       "      <td>Nikki Haley, in op-ed, says coronavirus respon...</td>\n",
       "      <td>Responsibility for combating the coronavirus o...</td>\n",
       "      <td>https://www.foxnews.com/politics/nikki-haley-i...</td>\n",
       "      <td>Get all the latest news on coronavirus and mor...</td>\n",
       "    </tr>\n",
       "    <tr>\n",
       "      <th>4</th>\n",
       "      <td>2 hours ago</td>\n",
       "      <td>Barr disappointed by partisan attacks leveled ...</td>\n",
       "      <td>Attorney General William Barr told \"The Ingrah...</td>\n",
       "      <td>https://www.foxnews.com/media/ag-william-barr-...</td>\n",
       "      <td>Get all the latest news on coronavirus and mor...</td>\n",
       "    </tr>\n",
       "  </tbody>\n",
       "</table>\n",
       "</div>"
      ],
      "text/plain": [
       "      published                                              title  \\\n",
       "0  24 mins ago   Wife of Edmonton Oilers' Colby Cave gives upda...   \n",
       "1   1 hour ago   Body of RFK granddaughter’s son, 8, recovered ...   \n",
       "2   1 hour ago   Hundreds of inmates at Washington state correc...   \n",
       "3   1 hour ago   Nikki Haley, in op-ed, says coronavirus respon...   \n",
       "4  2 hours ago   Barr disappointed by partisan attacks leveled ...   \n",
       "\n",
       "                                             summary  \\\n",
       "0  The wife of Edmonton Oilers forward Colby Cave...   \n",
       "1  The body of 8-year-old Gideon McKean was recov...   \n",
       "2  Authorities in Washington state responded late...   \n",
       "3  Responsibility for combating the coronavirus o...   \n",
       "4  Attorney General William Barr told \"The Ingrah...   \n",
       "\n",
       "                                                link  \\\n",
       "0  https://www.foxnews.com/sports/wife-of-edmonto...   \n",
       "1  https://www.foxnews.com/us/body-of-rfk-grandda...   \n",
       "2  https://www.foxnews.com/us/hundreds-of-inmates...   \n",
       "3  https://www.foxnews.com/politics/nikki-haley-i...   \n",
       "4  https://www.foxnews.com/media/ag-william-barr-...   \n",
       "\n",
       "                                                body  \n",
       "0  The wife of Edmonton Oilers forward Colby Cave...  \n",
       "1  The body of 8-year-old Gideon McKean was recov...  \n",
       "2  Get all the latest news on coronavirus and mor...  \n",
       "3  Get all the latest news on coronavirus and mor...  \n",
       "4  Get all the latest news on coronavirus and mor...  "
      ]
     },
     "execution_count": 95,
     "metadata": {
      "tags": []
     },
     "output_type": "execute_result"
    }
   ],
   "source": [
    "df_body = pd.DataFrame({\n",
    "    'true_time': published_time_list,\n",
    "    'body' : body,\n",
    "})\n",
    "foxnews_article_1750 = pd.concat([foxnews_article_1750, df_body], axis=1)\n",
    "foxnews_article_1750.head()"
   ]
  },
  {
   "cell_type": "code",
   "execution_count": 0,
   "metadata": {
    "ExecuteTime": {
     "end_time": "2020-04-10T18:28:05.473127Z",
     "start_time": "2020-04-10T18:28:05.468109Z"
    },
    "colab": {},
    "colab_type": "code",
    "id": "unXWQwS6c9wI",
    "outputId": "aa2f1a37-4ed0-4c7f-a8e4-ef58ea3b76b6"
   },
   "outputs": [
    {
     "data": {
      "text/plain": [
       "'Get all the latest news on coronavirus and more delivered daily to your inbox.\\xa0Sign up here. Responsibility for combating the coronavirus\\xa0outbreak in the U.S. lies mainly with governors and not President Trump, former U.S. Ambassador to the\\xa0United Nations Nikki Haley\\xa0says. \"The federal government can provide crucial resources, but the burden is on the governor and her team to distribute them. No two states are alike, and blanket approaches won’t work,\" Haley, who previously served as a Republican governor of South Carolina, wrote in a New York Times op-ed piece Wednesday. \"No two states are alike, and blanket approaches won’t work.\" She seemed to oppose\\xa0Dr. Anthony Fauci’s endorsement last week of a nationwide stay-at-home order, which came as a handful of the nation&aposs governors have refused to issue one. Nikki Haley accuses WHO of taking &aposChina&aposs word&apos on coronavirus transmission Fauci, director of the National Institute of Allergy and Infectious Diseases\\xa0and a\\xa0face of President Trump&aposs Coronavirus Task Force, said last Thursday he didn’t understand why a federal stay-at-home order hadn&apost been put in place. But Haley countered: “America is better served when presidents respect the diversity of states instead of dictating uniform solutions.\" She said governors know their residents and their state’s needs better than the federal government does, and are in the best position to oversee efforts taken within the state. She wrote it&aposs each state&aposs obligation to prepare an emergency response before a crisis -- making sure supplies are up to date\\xa0and reaching out to the Federal Emergency Management Agency\\xa0(FEMA) and the federal government when they know a crisis is coming. She added that some governors have shown strong leadership amid the pandemic\\xa0but accused others of\\xa0blaming the president to hide their own failures. “As our highest nationally elected leader, of course President Trump has enormous responsibility in this unprecedented crisis, and he is marshaling the federal response on a massive scale,\" she wrote,\\xa0\"But in implementing plans to save people’s lives and keep our economy afloat, look no further than the governors.” \"President Trump has enormous responsibility in this unprecedented crisis, and he is marshaling the federal response on a massive scale.\" Last Friday, Haley criticized the World Health Organization for taking “China’s word” in the early stages of the outbreak that the virus might not spread from person-to-person, citing a January tweet from the organization that said China had found “no clear evidence.\" CLICK HERE FOR COMPLETE CORONAVIRUS COVERAGE She lashed out against China&aposs influence in the WHO again Wednesday evening during an appearance on Fox News&apos \"Hannity.\" \"If anything, we deserve to hold them accountable,\" Haley said, regarding China&aposs reporting of the origins of the coronavirus outbreak, noting that the U.S. funds 22 percent of the WHO budget. Last month, Haley resigned from Boeing’s board of directors out of \"philosophical principle\" when the company requested federal assistance during the crisis. Get all the stories you need-to-know from the most powerful name in news delivered first thing every morning to your inbox Subscribed You\\'ve successfully subscribed to this newsletter! This material may not be published, broadcast, rewritten, or redistributed. ©2020 FOX News Network, LLC. All rights reserved. All market data delayed 20 minutes.'"
      ]
     },
     "execution_count": 97,
     "metadata": {
      "tags": []
     },
     "output_type": "execute_result"
    }
   ],
   "source": [
    "str(foxnews_article_1750['body'][3])"
   ]
  },
  {
   "cell_type": "code",
   "execution_count": 0,
   "metadata": {
    "ExecuteTime": {
     "end_time": "2020-04-10T18:28:26.241580Z",
     "start_time": "2020-04-10T18:28:25.310946Z"
    },
    "colab": {},
    "colab_type": "code",
    "id": "7BdL2Znrc9wL"
   },
   "outputs": [],
   "source": [
    "os.chdir(r'C:/Users/saksh/Sentiment Analysis/News for CNN')\n",
    "foxnews_article_1750.to_excel('foxnews_article_1750.xlsx',index=False)"
   ]
  },
  {
   "cell_type": "code",
   "execution_count": 0,
   "metadata": {
    "colab": {},
    "colab_type": "code",
    "id": "GtTWU4_lc9wN"
   },
   "outputs": [],
   "source": []
  }
 ],
 "metadata": {
  "colab": {
   "collapsed_sections": [],
   "name": "FOX Scraping xx.ipynb",
   "provenance": []
  },
  "kernelspec": {
   "display_name": "Python 3",
   "language": "python",
   "name": "python3"
  },
  "language_info": {
   "codemirror_mode": {
    "name": "ipython",
    "version": 3
   },
   "file_extension": ".py",
   "mimetype": "text/x-python",
   "name": "python",
   "nbconvert_exporter": "python",
   "pygments_lexer": "ipython3",
   "version": "3.7.6"
  },
  "toc": {
   "base_numbering": 1,
   "nav_menu": {},
   "number_sections": true,
   "sideBar": true,
   "skip_h1_title": false,
   "title_cell": "Table of Contents",
   "title_sidebar": "Contents",
   "toc_cell": false,
   "toc_position": {},
   "toc_section_display": true,
   "toc_window_display": false
  }
 },
 "nbformat": 4,
 "nbformat_minor": 1
}
