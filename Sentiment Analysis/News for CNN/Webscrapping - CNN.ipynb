{
 "cells": [
  {
   "cell_type": "code",
   "execution_count": 1,
   "metadata": {},
   "outputs": [],
   "source": [
    "import numpy as np\n",
    "import mysql.connector\n",
    "from sqlalchemy import create_engine\n",
    "import pymysql\n",
    "import json\n",
    "import time\n",
    "from datetime import date\n",
    "from dateutil.parser import parse\n",
    "from datetime import datetime\n",
    "import pandas as pd\n",
    "import requests\n",
    "from bs4 import BeautifulSoup \n",
    "from tqdm import notebook\n",
    "from selenium import webdriver\n",
    "from selenium.webdriver.common.keys import Keys\n",
    "from selenium.common.exceptions import NoSuchElementException\n",
    "import datetime\n",
    "import re\n",
    "from datetime import timedelta\n",
    "import glob\n",
    "import os\n",
    "import math\n",
    "from random import randint\n",
    "from tqdm import notebook"
   ]
  },
  {
   "cell_type": "markdown",
   "metadata": {},
   "source": [
    "# CNN\n",
    "# coronavirus, 82 results, within 1 page"
   ]
  },
  {
   "cell_type": "code",
   "execution_count": 2,
   "metadata": {},
   "outputs": [],
   "source": [
    "# keyword = coronavirus\n",
    "url = 'https://www.cnn.com/search?size=100&q=corona%20virus'"
   ]
  },
  {
   "cell_type": "code",
   "execution_count": 3,
   "metadata": {},
   "outputs": [],
   "source": [
    "driver = webdriver.Chrome()\n",
    "driver.get(url)"
   ]
  },
  {
   "cell_type": "code",
   "execution_count": 4,
   "metadata": {},
   "outputs": [],
   "source": [
    "headline_tag = driver.find_elements_by_class_name('cnn-search__result-headline')"
   ]
  },
  {
   "cell_type": "code",
   "execution_count": 5,
   "metadata": {},
   "outputs": [],
   "source": [
    "xpth = \"//*[@class = 'cnn-search__result-headline']/a\"\n",
    "links = [*map(lambda x: x.get_attribute('href'), driver.find_elements_by_xpath(xpth))]\n",
    "headlines = [*map(lambda x: x.text, headline_tag)]"
   ]
  },
  {
   "cell_type": "code",
   "execution_count": 6,
   "metadata": {},
   "outputs": [],
   "source": [
    "time_tag = driver.find_elements_by_class_name('cnn-search__result-publish-date')\n",
    "times = [*map(lambda x: x.text, time_tag)]"
   ]
  },
  {
   "cell_type": "code",
   "execution_count": 7,
   "metadata": {},
   "outputs": [],
   "source": [
    "result_body_tag = driver.find_elements_by_css_selector(r'div.cnn-search__result-body')\n",
    "result_body = [*map(lambda x: x.text, result_body_tag)]"
   ]
  },
  {
   "cell_type": "code",
   "execution_count": 8,
   "metadata": {},
   "outputs": [],
   "source": [
    "search_cv = pd.DataFrame(\n",
    "    {'headline': headlines,\n",
    "     'published_date': time,\n",
    "     'link': links,\n",
    "     'content': result_body,\n",
    "    })"
   ]
  },
  {
   "cell_type": "code",
   "execution_count": 9,
   "metadata": {},
   "outputs": [],
   "source": [
    "search_cv.to_excel('CNN_coronavirus_0408.xlsx')"
   ]
  },
  {
   "cell_type": "markdown",
   "metadata": {},
   "source": [
    "# Covid-19, 1800+ results"
   ]
  },
  {
   "cell_type": "code",
   "execution_count": 10,
   "metadata": {},
   "outputs": [],
   "source": [
    "driver_init = webdriver.Chrome()\n",
    "url_init = 'https://www.cnn.com/search?size=10&q=covid-19'\n",
    "# find the place that stores how many results"
   ]
  },
  {
   "cell_type": "code",
   "execution_count": 11,
   "metadata": {},
   "outputs": [],
   "source": [
    "# keyword = coronavirus\n",
    "# 1768 is the total number of results about covid-19\n",
    "cnn_covid = ['https://www.cnn.com/search?size=10&q=covid-19&from='+str(x) for x in range(0, 1784, 10)]"
   ]
  },
  {
   "cell_type": "code",
   "execution_count": 12,
   "metadata": {},
   "outputs": [],
   "source": [
    "cnn_covid_file = os.getcwd()+'\\\\cnn\\\\covid1'\n",
    "if not os.path.exists(cnn_covid_file):\n",
    "    os.makedirs(cnn_covid_file)"
   ]
  },
  {
   "cell_type": "code",
   "execution_count": 13,
   "metadata": {},
   "outputs": [],
   "source": [
    "driver_cnn_covid = webdriver.Chrome()"
   ]
  },
  {
   "cell_type": "code",
   "execution_count": 14,
   "metadata": {},
   "outputs": [
    {
     "data": {
      "application/vnd.jupyter.widget-view+json": {
       "model_id": "100cceae2ab24fc4946db2da0b067c90",
       "version_major": 2,
       "version_minor": 0
      },
      "text/plain": [
       "HBox(children=(FloatProgress(value=1.0, bar_style='info', max=1.0), HTML(value='')))"
      ]
     },
     "metadata": {},
     "output_type": "display_data"
    },
    {
     "name": "stdout",
     "output_type": "stream",
     "text": [
      "\n"
     ]
    }
   ],
   "source": [
    "# create the lists for dataframe\n",
    "for idx, cnn_url in notebook.tqdm(enumerate(cnn_covid)):\n",
    "    rand = randint(2,6)\n",
    "    time.sleep(rand)\n",
    "    # get the url, store the values of tags \n",
    "    driver_cnn_covid.get(cnn_url)\n",
    "    # download the source pages\n",
    "    pagesource = driver_cnn_covid.page_source\n",
    "    file_name = 'covid-19' + ' ' + str(idx) + '.txt'\n",
    "    name_wdir = os.path.join(cnn_covid_file, file_name)\n",
    "    file = open(name_wdir, 'w',  encoding = \"utf-8\")\n",
    "    file.write(str(pagesource))\n",
    "    file.close()"
   ]
  },
  {
   "cell_type": "code",
   "execution_count": 15,
   "metadata": {},
   "outputs": [],
   "source": [
    "# Get the name of all files\n",
    "cnn_covid_txt_list = []\n",
    "for filename in glob.glob(cnn_covid_file + '\\\\*.txt'):\n",
    "    # Put all names in a list\n",
    "    cnn_covid_txt_list.append(filename)"
   ]
  },
  {
   "cell_type": "code",
   "execution_count": 16,
   "metadata": {},
   "outputs": [
    {
     "data": {
      "application/vnd.jupyter.widget-view+json": {
       "model_id": "b0a16335749d44ba80c2cad31127de09",
       "version_major": 2,
       "version_minor": 0
      },
      "text/plain": [
       "HBox(children=(FloatProgress(value=1.0, bar_style='info', max=1.0), HTML(value='')))"
      ]
     },
     "metadata": {},
     "output_type": "display_data"
    },
    {
     "name": "stdout",
     "output_type": "stream",
     "text": [
      "\n"
     ]
    }
   ],
   "source": [
    "headlines_covid = []\n",
    "time_covid = []\n",
    "link_covid = []\n",
    "result_body_covid = []\n",
    "\n",
    "for idx, cnn_covid_txt in notebook.tqdm(enumerate(cnn_covid_txt_list)):\n",
    "    name_wdir2 = os.path.join(cnn_covid_file, cnn_covid_txt)\n",
    "    page_content = open(name_wdir2, \"r\", encoding=\"utf-8\").read()\n",
    "    soup = BeautifulSoup(page_content)\n",
    "    \n",
    "    # get the tags of headlines, links, published_dates, and contents\n",
    "    headline_tag = soup.find_all(class_ = 'cnn-search__result-headline')\n",
    "    links_tag = soup.find_all(class_ = 'cnn-search__result-headline')#['href']\n",
    "    time_tag = soup.find_all(class_ = 'cnn-search__result-publish-date')\n",
    "    result_body_tag = soup.find_all(class_ = 'cnn-search__result-body')\n",
    "    \n",
    "    # get the values of headlines, links, published_dates, and contents\n",
    "    links = [idx] * 10\n",
    "    result_body = [idx] * 10\n",
    "    times = [idx] * 10 \n",
    "    headlines = [idx] * 10\n",
    "    if len([*map(lambda x: ''.join(x.text.split('\\n')), headline_tag)]) != 0:\n",
    "        links = [*map(lambda x: x.a['href'], links_tag)]\n",
    "        headlines = [*map(lambda x: ''.join(x.text.split('\\n')), headline_tag)]\n",
    "        times = [*map(lambda x: ''.join(x.text.split('\\n')), time_tag)]\n",
    "        result_body = [*map(lambda x: ''.join(x.text.split('\\n')), result_body_tag)]\n",
    "    \n",
    "    # store values to the list\n",
    "    headlines_covid = headlines_covid + headlines\n",
    "    time_covid = time_covid + times\n",
    "    link_covid = link_covid + links\n",
    "    result_body_covid = result_body_covid + result_body"
   ]
  },
  {
   "cell_type": "code",
   "execution_count": 17,
   "metadata": {},
   "outputs": [],
   "source": [
    "search_covid = pd.DataFrame(\n",
    "    {'headline': headlines_covid,\n",
    "     'published_date': time_covid,\n",
    "     'link': link_covid,\n",
    "     'content': result_body_covid\n",
    "    })"
   ]
  },
  {
   "cell_type": "code",
   "execution_count": 18,
   "metadata": {},
   "outputs": [
    {
     "data": {
      "text/html": [
       "<div>\n",
       "<style scoped>\n",
       "    .dataframe tbody tr th:only-of-type {\n",
       "        vertical-align: middle;\n",
       "    }\n",
       "\n",
       "    .dataframe tbody tr th {\n",
       "        vertical-align: top;\n",
       "    }\n",
       "\n",
       "    .dataframe thead th {\n",
       "        text-align: right;\n",
       "    }\n",
       "</style>\n",
       "<table border=\"1\" class=\"dataframe\">\n",
       "  <thead>\n",
       "    <tr style=\"text-align: right;\">\n",
       "      <th></th>\n",
       "      <th>headline</th>\n",
       "      <th>published_date</th>\n",
       "      <th>link</th>\n",
       "      <th>content</th>\n",
       "    </tr>\n",
       "  </thead>\n",
       "  <tbody>\n",
       "    <tr>\n",
       "      <th>0</th>\n",
       "      <td>0</td>\n",
       "      <td>0</td>\n",
       "      <td>0</td>\n",
       "      <td>0</td>\n",
       "    </tr>\n",
       "    <tr>\n",
       "      <th>1</th>\n",
       "      <td>0</td>\n",
       "      <td>0</td>\n",
       "      <td>0</td>\n",
       "      <td>0</td>\n",
       "    </tr>\n",
       "    <tr>\n",
       "      <th>2</th>\n",
       "      <td>0</td>\n",
       "      <td>0</td>\n",
       "      <td>0</td>\n",
       "      <td>0</td>\n",
       "    </tr>\n",
       "    <tr>\n",
       "      <th>3</th>\n",
       "      <td>0</td>\n",
       "      <td>0</td>\n",
       "      <td>0</td>\n",
       "      <td>0</td>\n",
       "    </tr>\n",
       "    <tr>\n",
       "      <th>4</th>\n",
       "      <td>0</td>\n",
       "      <td>0</td>\n",
       "      <td>0</td>\n",
       "      <td>0</td>\n",
       "    </tr>\n",
       "    <tr>\n",
       "      <th>...</th>\n",
       "      <td>...</td>\n",
       "      <td>...</td>\n",
       "      <td>...</td>\n",
       "      <td>...</td>\n",
       "    </tr>\n",
       "    <tr>\n",
       "      <th>1785</th>\n",
       "      <td>178</td>\n",
       "      <td>178</td>\n",
       "      <td>178</td>\n",
       "      <td>178</td>\n",
       "    </tr>\n",
       "    <tr>\n",
       "      <th>1786</th>\n",
       "      <td>178</td>\n",
       "      <td>178</td>\n",
       "      <td>178</td>\n",
       "      <td>178</td>\n",
       "    </tr>\n",
       "    <tr>\n",
       "      <th>1787</th>\n",
       "      <td>178</td>\n",
       "      <td>178</td>\n",
       "      <td>178</td>\n",
       "      <td>178</td>\n",
       "    </tr>\n",
       "    <tr>\n",
       "      <th>1788</th>\n",
       "      <td>178</td>\n",
       "      <td>178</td>\n",
       "      <td>178</td>\n",
       "      <td>178</td>\n",
       "    </tr>\n",
       "    <tr>\n",
       "      <th>1789</th>\n",
       "      <td>178</td>\n",
       "      <td>178</td>\n",
       "      <td>178</td>\n",
       "      <td>178</td>\n",
       "    </tr>\n",
       "  </tbody>\n",
       "</table>\n",
       "<p>1790 rows × 4 columns</p>\n",
       "</div>"
      ],
      "text/plain": [
       "     headline published_date link content\n",
       "0           0              0    0       0\n",
       "1           0              0    0       0\n",
       "2           0              0    0       0\n",
       "3           0              0    0       0\n",
       "4           0              0    0       0\n",
       "...       ...            ...  ...     ...\n",
       "1785      178            178  178     178\n",
       "1786      178            178  178     178\n",
       "1787      178            178  178     178\n",
       "1788      178            178  178     178\n",
       "1789      178            178  178     178\n",
       "\n",
       "[1790 rows x 4 columns]"
      ]
     },
     "execution_count": 18,
     "metadata": {},
     "output_type": "execute_result"
    }
   ],
   "source": [
    "search_covid"
   ]
  },
  {
   "cell_type": "code",
   "execution_count": 19,
   "metadata": {},
   "outputs": [],
   "source": [
    "mask = [*map(lambda x: type(x) == int, search_covid['headline'])]\n",
    "lost_pages = np.array(search_covid[mask]['headline'].unique())"
   ]
  },
  {
   "cell_type": "code",
   "execution_count": 20,
   "metadata": {},
   "outputs": [
    {
     "data": {
      "application/vnd.jupyter.widget-view+json": {
       "model_id": "d4a1cfb543cd4cdbbd1f8ec4325f0976",
       "version_major": 2,
       "version_minor": 0
      },
      "text/plain": [
       "HBox(children=(FloatProgress(value=1.0, bar_style='info', max=1.0), HTML(value='')))"
      ]
     },
     "metadata": {},
     "output_type": "display_data"
    },
    {
     "name": "stdout",
     "output_type": "stream",
     "text": [
      "\n"
     ]
    }
   ],
   "source": [
    "# re-download the lost pages\n",
    "cnn_covid_lost = ['https://www.cnn.com/search?size=10&q=covid-19&from='+str(x) for x in lost_pages*10]\n",
    "for idx, cnn_url in notebook.tqdm(enumerate(cnn_covid_lost)):\n",
    "    rand = randint(2,6)\n",
    "    time.sleep(rand)\n",
    "    # get the url, store the values of tags \n",
    "    driver_cnn_covid.get(cnn_url)\n",
    "    # download the source pages\n",
    "    pagesource = driver_cnn_covid.page_source\n",
    "    file_name = 'covid-19' + ' ' + str(idx) + '.html'\n",
    "    name_wdir = os.path.join(cnn_covid_file, file_name)\n",
    "    file = open(name_wdir, 'w',  encoding = \"utf-8\")\n",
    "    file.write(str(pagesource))\n",
    "    file.close()"
   ]
  },
  {
   "cell_type": "code",
   "execution_count": 21,
   "metadata": {},
   "outputs": [],
   "source": [
    "# Get the name of all files\n",
    "cnn_covid_html_list = []\n",
    "for filename in glob.glob(cnn_covid_file + '\\\\*.html'):\n",
    "    # Put all names in a list\n",
    "    cnn_covid_html_list.append(filename)"
   ]
  },
  {
   "cell_type": "code",
   "execution_count": 22,
   "metadata": {},
   "outputs": [
    {
     "data": {
      "text/plain": [
       "['C:\\\\Users\\\\saksh\\\\Sentiment Analysis\\\\News for CNN\\\\cnn\\\\covid1\\\\covid-19 0.html',\n",
       " 'C:\\\\Users\\\\saksh\\\\Sentiment Analysis\\\\News for CNN\\\\cnn\\\\covid1\\\\covid-19 1.html',\n",
       " 'C:\\\\Users\\\\saksh\\\\Sentiment Analysis\\\\News for CNN\\\\cnn\\\\covid1\\\\covid-19 10.html',\n",
       " 'C:\\\\Users\\\\saksh\\\\Sentiment Analysis\\\\News for CNN\\\\cnn\\\\covid1\\\\covid-19 100.html',\n",
       " 'C:\\\\Users\\\\saksh\\\\Sentiment Analysis\\\\News for CNN\\\\cnn\\\\covid1\\\\covid-19 101.html',\n",
       " 'C:\\\\Users\\\\saksh\\\\Sentiment Analysis\\\\News for CNN\\\\cnn\\\\covid1\\\\covid-19 102.html',\n",
       " 'C:\\\\Users\\\\saksh\\\\Sentiment Analysis\\\\News for CNN\\\\cnn\\\\covid1\\\\covid-19 103.html',\n",
       " 'C:\\\\Users\\\\saksh\\\\Sentiment Analysis\\\\News for CNN\\\\cnn\\\\covid1\\\\covid-19 104.html',\n",
       " 'C:\\\\Users\\\\saksh\\\\Sentiment Analysis\\\\News for CNN\\\\cnn\\\\covid1\\\\covid-19 105.html',\n",
       " 'C:\\\\Users\\\\saksh\\\\Sentiment Analysis\\\\News for CNN\\\\cnn\\\\covid1\\\\covid-19 106.html',\n",
       " 'C:\\\\Users\\\\saksh\\\\Sentiment Analysis\\\\News for CNN\\\\cnn\\\\covid1\\\\covid-19 107.html',\n",
       " 'C:\\\\Users\\\\saksh\\\\Sentiment Analysis\\\\News for CNN\\\\cnn\\\\covid1\\\\covid-19 108.html',\n",
       " 'C:\\\\Users\\\\saksh\\\\Sentiment Analysis\\\\News for CNN\\\\cnn\\\\covid1\\\\covid-19 109.html',\n",
       " 'C:\\\\Users\\\\saksh\\\\Sentiment Analysis\\\\News for CNN\\\\cnn\\\\covid1\\\\covid-19 11.html',\n",
       " 'C:\\\\Users\\\\saksh\\\\Sentiment Analysis\\\\News for CNN\\\\cnn\\\\covid1\\\\covid-19 110.html',\n",
       " 'C:\\\\Users\\\\saksh\\\\Sentiment Analysis\\\\News for CNN\\\\cnn\\\\covid1\\\\covid-19 111.html',\n",
       " 'C:\\\\Users\\\\saksh\\\\Sentiment Analysis\\\\News for CNN\\\\cnn\\\\covid1\\\\covid-19 112.html',\n",
       " 'C:\\\\Users\\\\saksh\\\\Sentiment Analysis\\\\News for CNN\\\\cnn\\\\covid1\\\\covid-19 113.html',\n",
       " 'C:\\\\Users\\\\saksh\\\\Sentiment Analysis\\\\News for CNN\\\\cnn\\\\covid1\\\\covid-19 114.html',\n",
       " 'C:\\\\Users\\\\saksh\\\\Sentiment Analysis\\\\News for CNN\\\\cnn\\\\covid1\\\\covid-19 115.html',\n",
       " 'C:\\\\Users\\\\saksh\\\\Sentiment Analysis\\\\News for CNN\\\\cnn\\\\covid1\\\\covid-19 116.html',\n",
       " 'C:\\\\Users\\\\saksh\\\\Sentiment Analysis\\\\News for CNN\\\\cnn\\\\covid1\\\\covid-19 117.html',\n",
       " 'C:\\\\Users\\\\saksh\\\\Sentiment Analysis\\\\News for CNN\\\\cnn\\\\covid1\\\\covid-19 118.html',\n",
       " 'C:\\\\Users\\\\saksh\\\\Sentiment Analysis\\\\News for CNN\\\\cnn\\\\covid1\\\\covid-19 119.html',\n",
       " 'C:\\\\Users\\\\saksh\\\\Sentiment Analysis\\\\News for CNN\\\\cnn\\\\covid1\\\\covid-19 12.html',\n",
       " 'C:\\\\Users\\\\saksh\\\\Sentiment Analysis\\\\News for CNN\\\\cnn\\\\covid1\\\\covid-19 120.html',\n",
       " 'C:\\\\Users\\\\saksh\\\\Sentiment Analysis\\\\News for CNN\\\\cnn\\\\covid1\\\\covid-19 121.html',\n",
       " 'C:\\\\Users\\\\saksh\\\\Sentiment Analysis\\\\News for CNN\\\\cnn\\\\covid1\\\\covid-19 122.html',\n",
       " 'C:\\\\Users\\\\saksh\\\\Sentiment Analysis\\\\News for CNN\\\\cnn\\\\covid1\\\\covid-19 123.html',\n",
       " 'C:\\\\Users\\\\saksh\\\\Sentiment Analysis\\\\News for CNN\\\\cnn\\\\covid1\\\\covid-19 124.html',\n",
       " 'C:\\\\Users\\\\saksh\\\\Sentiment Analysis\\\\News for CNN\\\\cnn\\\\covid1\\\\covid-19 125.html',\n",
       " 'C:\\\\Users\\\\saksh\\\\Sentiment Analysis\\\\News for CNN\\\\cnn\\\\covid1\\\\covid-19 126.html',\n",
       " 'C:\\\\Users\\\\saksh\\\\Sentiment Analysis\\\\News for CNN\\\\cnn\\\\covid1\\\\covid-19 127.html',\n",
       " 'C:\\\\Users\\\\saksh\\\\Sentiment Analysis\\\\News for CNN\\\\cnn\\\\covid1\\\\covid-19 128.html',\n",
       " 'C:\\\\Users\\\\saksh\\\\Sentiment Analysis\\\\News for CNN\\\\cnn\\\\covid1\\\\covid-19 129.html',\n",
       " 'C:\\\\Users\\\\saksh\\\\Sentiment Analysis\\\\News for CNN\\\\cnn\\\\covid1\\\\covid-19 13.html',\n",
       " 'C:\\\\Users\\\\saksh\\\\Sentiment Analysis\\\\News for CNN\\\\cnn\\\\covid1\\\\covid-19 130.html',\n",
       " 'C:\\\\Users\\\\saksh\\\\Sentiment Analysis\\\\News for CNN\\\\cnn\\\\covid1\\\\covid-19 131.html',\n",
       " 'C:\\\\Users\\\\saksh\\\\Sentiment Analysis\\\\News for CNN\\\\cnn\\\\covid1\\\\covid-19 132.html',\n",
       " 'C:\\\\Users\\\\saksh\\\\Sentiment Analysis\\\\News for CNN\\\\cnn\\\\covid1\\\\covid-19 133.html',\n",
       " 'C:\\\\Users\\\\saksh\\\\Sentiment Analysis\\\\News for CNN\\\\cnn\\\\covid1\\\\covid-19 134.html',\n",
       " 'C:\\\\Users\\\\saksh\\\\Sentiment Analysis\\\\News for CNN\\\\cnn\\\\covid1\\\\covid-19 135.html',\n",
       " 'C:\\\\Users\\\\saksh\\\\Sentiment Analysis\\\\News for CNN\\\\cnn\\\\covid1\\\\covid-19 136.html',\n",
       " 'C:\\\\Users\\\\saksh\\\\Sentiment Analysis\\\\News for CNN\\\\cnn\\\\covid1\\\\covid-19 137.html',\n",
       " 'C:\\\\Users\\\\saksh\\\\Sentiment Analysis\\\\News for CNN\\\\cnn\\\\covid1\\\\covid-19 138.html',\n",
       " 'C:\\\\Users\\\\saksh\\\\Sentiment Analysis\\\\News for CNN\\\\cnn\\\\covid1\\\\covid-19 139.html',\n",
       " 'C:\\\\Users\\\\saksh\\\\Sentiment Analysis\\\\News for CNN\\\\cnn\\\\covid1\\\\covid-19 14.html',\n",
       " 'C:\\\\Users\\\\saksh\\\\Sentiment Analysis\\\\News for CNN\\\\cnn\\\\covid1\\\\covid-19 140.html',\n",
       " 'C:\\\\Users\\\\saksh\\\\Sentiment Analysis\\\\News for CNN\\\\cnn\\\\covid1\\\\covid-19 141.html',\n",
       " 'C:\\\\Users\\\\saksh\\\\Sentiment Analysis\\\\News for CNN\\\\cnn\\\\covid1\\\\covid-19 142.html',\n",
       " 'C:\\\\Users\\\\saksh\\\\Sentiment Analysis\\\\News for CNN\\\\cnn\\\\covid1\\\\covid-19 143.html',\n",
       " 'C:\\\\Users\\\\saksh\\\\Sentiment Analysis\\\\News for CNN\\\\cnn\\\\covid1\\\\covid-19 144.html',\n",
       " 'C:\\\\Users\\\\saksh\\\\Sentiment Analysis\\\\News for CNN\\\\cnn\\\\covid1\\\\covid-19 145.html',\n",
       " 'C:\\\\Users\\\\saksh\\\\Sentiment Analysis\\\\News for CNN\\\\cnn\\\\covid1\\\\covid-19 146.html',\n",
       " 'C:\\\\Users\\\\saksh\\\\Sentiment Analysis\\\\News for CNN\\\\cnn\\\\covid1\\\\covid-19 147.html',\n",
       " 'C:\\\\Users\\\\saksh\\\\Sentiment Analysis\\\\News for CNN\\\\cnn\\\\covid1\\\\covid-19 148.html',\n",
       " 'C:\\\\Users\\\\saksh\\\\Sentiment Analysis\\\\News for CNN\\\\cnn\\\\covid1\\\\covid-19 149.html',\n",
       " 'C:\\\\Users\\\\saksh\\\\Sentiment Analysis\\\\News for CNN\\\\cnn\\\\covid1\\\\covid-19 15.html',\n",
       " 'C:\\\\Users\\\\saksh\\\\Sentiment Analysis\\\\News for CNN\\\\cnn\\\\covid1\\\\covid-19 150.html',\n",
       " 'C:\\\\Users\\\\saksh\\\\Sentiment Analysis\\\\News for CNN\\\\cnn\\\\covid1\\\\covid-19 151.html',\n",
       " 'C:\\\\Users\\\\saksh\\\\Sentiment Analysis\\\\News for CNN\\\\cnn\\\\covid1\\\\covid-19 152.html',\n",
       " 'C:\\\\Users\\\\saksh\\\\Sentiment Analysis\\\\News for CNN\\\\cnn\\\\covid1\\\\covid-19 153.html',\n",
       " 'C:\\\\Users\\\\saksh\\\\Sentiment Analysis\\\\News for CNN\\\\cnn\\\\covid1\\\\covid-19 154.html',\n",
       " 'C:\\\\Users\\\\saksh\\\\Sentiment Analysis\\\\News for CNN\\\\cnn\\\\covid1\\\\covid-19 155.html',\n",
       " 'C:\\\\Users\\\\saksh\\\\Sentiment Analysis\\\\News for CNN\\\\cnn\\\\covid1\\\\covid-19 156.html',\n",
       " 'C:\\\\Users\\\\saksh\\\\Sentiment Analysis\\\\News for CNN\\\\cnn\\\\covid1\\\\covid-19 157.html',\n",
       " 'C:\\\\Users\\\\saksh\\\\Sentiment Analysis\\\\News for CNN\\\\cnn\\\\covid1\\\\covid-19 158.html',\n",
       " 'C:\\\\Users\\\\saksh\\\\Sentiment Analysis\\\\News for CNN\\\\cnn\\\\covid1\\\\covid-19 159.html',\n",
       " 'C:\\\\Users\\\\saksh\\\\Sentiment Analysis\\\\News for CNN\\\\cnn\\\\covid1\\\\covid-19 16.html',\n",
       " 'C:\\\\Users\\\\saksh\\\\Sentiment Analysis\\\\News for CNN\\\\cnn\\\\covid1\\\\covid-19 160.html',\n",
       " 'C:\\\\Users\\\\saksh\\\\Sentiment Analysis\\\\News for CNN\\\\cnn\\\\covid1\\\\covid-19 161.html',\n",
       " 'C:\\\\Users\\\\saksh\\\\Sentiment Analysis\\\\News for CNN\\\\cnn\\\\covid1\\\\covid-19 162.html',\n",
       " 'C:\\\\Users\\\\saksh\\\\Sentiment Analysis\\\\News for CNN\\\\cnn\\\\covid1\\\\covid-19 163.html',\n",
       " 'C:\\\\Users\\\\saksh\\\\Sentiment Analysis\\\\News for CNN\\\\cnn\\\\covid1\\\\covid-19 164.html',\n",
       " 'C:\\\\Users\\\\saksh\\\\Sentiment Analysis\\\\News for CNN\\\\cnn\\\\covid1\\\\covid-19 165.html',\n",
       " 'C:\\\\Users\\\\saksh\\\\Sentiment Analysis\\\\News for CNN\\\\cnn\\\\covid1\\\\covid-19 166.html',\n",
       " 'C:\\\\Users\\\\saksh\\\\Sentiment Analysis\\\\News for CNN\\\\cnn\\\\covid1\\\\covid-19 167.html',\n",
       " 'C:\\\\Users\\\\saksh\\\\Sentiment Analysis\\\\News for CNN\\\\cnn\\\\covid1\\\\covid-19 168.html',\n",
       " 'C:\\\\Users\\\\saksh\\\\Sentiment Analysis\\\\News for CNN\\\\cnn\\\\covid1\\\\covid-19 169.html',\n",
       " 'C:\\\\Users\\\\saksh\\\\Sentiment Analysis\\\\News for CNN\\\\cnn\\\\covid1\\\\covid-19 17.html',\n",
       " 'C:\\\\Users\\\\saksh\\\\Sentiment Analysis\\\\News for CNN\\\\cnn\\\\covid1\\\\covid-19 170.html',\n",
       " 'C:\\\\Users\\\\saksh\\\\Sentiment Analysis\\\\News for CNN\\\\cnn\\\\covid1\\\\covid-19 171.html',\n",
       " 'C:\\\\Users\\\\saksh\\\\Sentiment Analysis\\\\News for CNN\\\\cnn\\\\covid1\\\\covid-19 172.html',\n",
       " 'C:\\\\Users\\\\saksh\\\\Sentiment Analysis\\\\News for CNN\\\\cnn\\\\covid1\\\\covid-19 173.html',\n",
       " 'C:\\\\Users\\\\saksh\\\\Sentiment Analysis\\\\News for CNN\\\\cnn\\\\covid1\\\\covid-19 174.html',\n",
       " 'C:\\\\Users\\\\saksh\\\\Sentiment Analysis\\\\News for CNN\\\\cnn\\\\covid1\\\\covid-19 175.html',\n",
       " 'C:\\\\Users\\\\saksh\\\\Sentiment Analysis\\\\News for CNN\\\\cnn\\\\covid1\\\\covid-19 176.html',\n",
       " 'C:\\\\Users\\\\saksh\\\\Sentiment Analysis\\\\News for CNN\\\\cnn\\\\covid1\\\\covid-19 177.html',\n",
       " 'C:\\\\Users\\\\saksh\\\\Sentiment Analysis\\\\News for CNN\\\\cnn\\\\covid1\\\\covid-19 18.html',\n",
       " 'C:\\\\Users\\\\saksh\\\\Sentiment Analysis\\\\News for CNN\\\\cnn\\\\covid1\\\\covid-19 19.html',\n",
       " 'C:\\\\Users\\\\saksh\\\\Sentiment Analysis\\\\News for CNN\\\\cnn\\\\covid1\\\\covid-19 2.html',\n",
       " 'C:\\\\Users\\\\saksh\\\\Sentiment Analysis\\\\News for CNN\\\\cnn\\\\covid1\\\\covid-19 20.html',\n",
       " 'C:\\\\Users\\\\saksh\\\\Sentiment Analysis\\\\News for CNN\\\\cnn\\\\covid1\\\\covid-19 21.html',\n",
       " 'C:\\\\Users\\\\saksh\\\\Sentiment Analysis\\\\News for CNN\\\\cnn\\\\covid1\\\\covid-19 22.html',\n",
       " 'C:\\\\Users\\\\saksh\\\\Sentiment Analysis\\\\News for CNN\\\\cnn\\\\covid1\\\\covid-19 23.html',\n",
       " 'C:\\\\Users\\\\saksh\\\\Sentiment Analysis\\\\News for CNN\\\\cnn\\\\covid1\\\\covid-19 24.html',\n",
       " 'C:\\\\Users\\\\saksh\\\\Sentiment Analysis\\\\News for CNN\\\\cnn\\\\covid1\\\\covid-19 25.html',\n",
       " 'C:\\\\Users\\\\saksh\\\\Sentiment Analysis\\\\News for CNN\\\\cnn\\\\covid1\\\\covid-19 26.html',\n",
       " 'C:\\\\Users\\\\saksh\\\\Sentiment Analysis\\\\News for CNN\\\\cnn\\\\covid1\\\\covid-19 27.html',\n",
       " 'C:\\\\Users\\\\saksh\\\\Sentiment Analysis\\\\News for CNN\\\\cnn\\\\covid1\\\\covid-19 28.html',\n",
       " 'C:\\\\Users\\\\saksh\\\\Sentiment Analysis\\\\News for CNN\\\\cnn\\\\covid1\\\\covid-19 29.html',\n",
       " 'C:\\\\Users\\\\saksh\\\\Sentiment Analysis\\\\News for CNN\\\\cnn\\\\covid1\\\\covid-19 3.html',\n",
       " 'C:\\\\Users\\\\saksh\\\\Sentiment Analysis\\\\News for CNN\\\\cnn\\\\covid1\\\\covid-19 30.html',\n",
       " 'C:\\\\Users\\\\saksh\\\\Sentiment Analysis\\\\News for CNN\\\\cnn\\\\covid1\\\\covid-19 31.html',\n",
       " 'C:\\\\Users\\\\saksh\\\\Sentiment Analysis\\\\News for CNN\\\\cnn\\\\covid1\\\\covid-19 32.html',\n",
       " 'C:\\\\Users\\\\saksh\\\\Sentiment Analysis\\\\News for CNN\\\\cnn\\\\covid1\\\\covid-19 33.html',\n",
       " 'C:\\\\Users\\\\saksh\\\\Sentiment Analysis\\\\News for CNN\\\\cnn\\\\covid1\\\\covid-19 34.html',\n",
       " 'C:\\\\Users\\\\saksh\\\\Sentiment Analysis\\\\News for CNN\\\\cnn\\\\covid1\\\\covid-19 35.html',\n",
       " 'C:\\\\Users\\\\saksh\\\\Sentiment Analysis\\\\News for CNN\\\\cnn\\\\covid1\\\\covid-19 36.html',\n",
       " 'C:\\\\Users\\\\saksh\\\\Sentiment Analysis\\\\News for CNN\\\\cnn\\\\covid1\\\\covid-19 37.html',\n",
       " 'C:\\\\Users\\\\saksh\\\\Sentiment Analysis\\\\News for CNN\\\\cnn\\\\covid1\\\\covid-19 38.html',\n",
       " 'C:\\\\Users\\\\saksh\\\\Sentiment Analysis\\\\News for CNN\\\\cnn\\\\covid1\\\\covid-19 39.html',\n",
       " 'C:\\\\Users\\\\saksh\\\\Sentiment Analysis\\\\News for CNN\\\\cnn\\\\covid1\\\\covid-19 4.html',\n",
       " 'C:\\\\Users\\\\saksh\\\\Sentiment Analysis\\\\News for CNN\\\\cnn\\\\covid1\\\\covid-19 40.html',\n",
       " 'C:\\\\Users\\\\saksh\\\\Sentiment Analysis\\\\News for CNN\\\\cnn\\\\covid1\\\\covid-19 41.html',\n",
       " 'C:\\\\Users\\\\saksh\\\\Sentiment Analysis\\\\News for CNN\\\\cnn\\\\covid1\\\\covid-19 42.html',\n",
       " 'C:\\\\Users\\\\saksh\\\\Sentiment Analysis\\\\News for CNN\\\\cnn\\\\covid1\\\\covid-19 43.html',\n",
       " 'C:\\\\Users\\\\saksh\\\\Sentiment Analysis\\\\News for CNN\\\\cnn\\\\covid1\\\\covid-19 44.html',\n",
       " 'C:\\\\Users\\\\saksh\\\\Sentiment Analysis\\\\News for CNN\\\\cnn\\\\covid1\\\\covid-19 45.html',\n",
       " 'C:\\\\Users\\\\saksh\\\\Sentiment Analysis\\\\News for CNN\\\\cnn\\\\covid1\\\\covid-19 46.html',\n",
       " 'C:\\\\Users\\\\saksh\\\\Sentiment Analysis\\\\News for CNN\\\\cnn\\\\covid1\\\\covid-19 47.html',\n",
       " 'C:\\\\Users\\\\saksh\\\\Sentiment Analysis\\\\News for CNN\\\\cnn\\\\covid1\\\\covid-19 48.html',\n",
       " 'C:\\\\Users\\\\saksh\\\\Sentiment Analysis\\\\News for CNN\\\\cnn\\\\covid1\\\\covid-19 49.html',\n",
       " 'C:\\\\Users\\\\saksh\\\\Sentiment Analysis\\\\News for CNN\\\\cnn\\\\covid1\\\\covid-19 5.html',\n",
       " 'C:\\\\Users\\\\saksh\\\\Sentiment Analysis\\\\News for CNN\\\\cnn\\\\covid1\\\\covid-19 50.html',\n",
       " 'C:\\\\Users\\\\saksh\\\\Sentiment Analysis\\\\News for CNN\\\\cnn\\\\covid1\\\\covid-19 51.html',\n",
       " 'C:\\\\Users\\\\saksh\\\\Sentiment Analysis\\\\News for CNN\\\\cnn\\\\covid1\\\\covid-19 52.html',\n",
       " 'C:\\\\Users\\\\saksh\\\\Sentiment Analysis\\\\News for CNN\\\\cnn\\\\covid1\\\\covid-19 53.html',\n",
       " 'C:\\\\Users\\\\saksh\\\\Sentiment Analysis\\\\News for CNN\\\\cnn\\\\covid1\\\\covid-19 54.html',\n",
       " 'C:\\\\Users\\\\saksh\\\\Sentiment Analysis\\\\News for CNN\\\\cnn\\\\covid1\\\\covid-19 55.html',\n",
       " 'C:\\\\Users\\\\saksh\\\\Sentiment Analysis\\\\News for CNN\\\\cnn\\\\covid1\\\\covid-19 56.html',\n",
       " 'C:\\\\Users\\\\saksh\\\\Sentiment Analysis\\\\News for CNN\\\\cnn\\\\covid1\\\\covid-19 57.html',\n",
       " 'C:\\\\Users\\\\saksh\\\\Sentiment Analysis\\\\News for CNN\\\\cnn\\\\covid1\\\\covid-19 58.html',\n",
       " 'C:\\\\Users\\\\saksh\\\\Sentiment Analysis\\\\News for CNN\\\\cnn\\\\covid1\\\\covid-19 59.html',\n",
       " 'C:\\\\Users\\\\saksh\\\\Sentiment Analysis\\\\News for CNN\\\\cnn\\\\covid1\\\\covid-19 6.html',\n",
       " 'C:\\\\Users\\\\saksh\\\\Sentiment Analysis\\\\News for CNN\\\\cnn\\\\covid1\\\\covid-19 60.html',\n",
       " 'C:\\\\Users\\\\saksh\\\\Sentiment Analysis\\\\News for CNN\\\\cnn\\\\covid1\\\\covid-19 61.html',\n",
       " 'C:\\\\Users\\\\saksh\\\\Sentiment Analysis\\\\News for CNN\\\\cnn\\\\covid1\\\\covid-19 62.html',\n",
       " 'C:\\\\Users\\\\saksh\\\\Sentiment Analysis\\\\News for CNN\\\\cnn\\\\covid1\\\\covid-19 63.html',\n",
       " 'C:\\\\Users\\\\saksh\\\\Sentiment Analysis\\\\News for CNN\\\\cnn\\\\covid1\\\\covid-19 64.html',\n",
       " 'C:\\\\Users\\\\saksh\\\\Sentiment Analysis\\\\News for CNN\\\\cnn\\\\covid1\\\\covid-19 65.html',\n",
       " 'C:\\\\Users\\\\saksh\\\\Sentiment Analysis\\\\News for CNN\\\\cnn\\\\covid1\\\\covid-19 66.html',\n",
       " 'C:\\\\Users\\\\saksh\\\\Sentiment Analysis\\\\News for CNN\\\\cnn\\\\covid1\\\\covid-19 67.html',\n",
       " 'C:\\\\Users\\\\saksh\\\\Sentiment Analysis\\\\News for CNN\\\\cnn\\\\covid1\\\\covid-19 68.html',\n",
       " 'C:\\\\Users\\\\saksh\\\\Sentiment Analysis\\\\News for CNN\\\\cnn\\\\covid1\\\\covid-19 69.html',\n",
       " 'C:\\\\Users\\\\saksh\\\\Sentiment Analysis\\\\News for CNN\\\\cnn\\\\covid1\\\\covid-19 7.html',\n",
       " 'C:\\\\Users\\\\saksh\\\\Sentiment Analysis\\\\News for CNN\\\\cnn\\\\covid1\\\\covid-19 70.html',\n",
       " 'C:\\\\Users\\\\saksh\\\\Sentiment Analysis\\\\News for CNN\\\\cnn\\\\covid1\\\\covid-19 71.html',\n",
       " 'C:\\\\Users\\\\saksh\\\\Sentiment Analysis\\\\News for CNN\\\\cnn\\\\covid1\\\\covid-19 72.html',\n",
       " 'C:\\\\Users\\\\saksh\\\\Sentiment Analysis\\\\News for CNN\\\\cnn\\\\covid1\\\\covid-19 73.html',\n",
       " 'C:\\\\Users\\\\saksh\\\\Sentiment Analysis\\\\News for CNN\\\\cnn\\\\covid1\\\\covid-19 74.html',\n",
       " 'C:\\\\Users\\\\saksh\\\\Sentiment Analysis\\\\News for CNN\\\\cnn\\\\covid1\\\\covid-19 75.html',\n",
       " 'C:\\\\Users\\\\saksh\\\\Sentiment Analysis\\\\News for CNN\\\\cnn\\\\covid1\\\\covid-19 76.html',\n",
       " 'C:\\\\Users\\\\saksh\\\\Sentiment Analysis\\\\News for CNN\\\\cnn\\\\covid1\\\\covid-19 77.html',\n",
       " 'C:\\\\Users\\\\saksh\\\\Sentiment Analysis\\\\News for CNN\\\\cnn\\\\covid1\\\\covid-19 78.html',\n",
       " 'C:\\\\Users\\\\saksh\\\\Sentiment Analysis\\\\News for CNN\\\\cnn\\\\covid1\\\\covid-19 79.html',\n",
       " 'C:\\\\Users\\\\saksh\\\\Sentiment Analysis\\\\News for CNN\\\\cnn\\\\covid1\\\\covid-19 8.html',\n",
       " 'C:\\\\Users\\\\saksh\\\\Sentiment Analysis\\\\News for CNN\\\\cnn\\\\covid1\\\\covid-19 80.html',\n",
       " 'C:\\\\Users\\\\saksh\\\\Sentiment Analysis\\\\News for CNN\\\\cnn\\\\covid1\\\\covid-19 81.html',\n",
       " 'C:\\\\Users\\\\saksh\\\\Sentiment Analysis\\\\News for CNN\\\\cnn\\\\covid1\\\\covid-19 82.html',\n",
       " 'C:\\\\Users\\\\saksh\\\\Sentiment Analysis\\\\News for CNN\\\\cnn\\\\covid1\\\\covid-19 83.html',\n",
       " 'C:\\\\Users\\\\saksh\\\\Sentiment Analysis\\\\News for CNN\\\\cnn\\\\covid1\\\\covid-19 84.html',\n",
       " 'C:\\\\Users\\\\saksh\\\\Sentiment Analysis\\\\News for CNN\\\\cnn\\\\covid1\\\\covid-19 85.html',\n",
       " 'C:\\\\Users\\\\saksh\\\\Sentiment Analysis\\\\News for CNN\\\\cnn\\\\covid1\\\\covid-19 86.html',\n",
       " 'C:\\\\Users\\\\saksh\\\\Sentiment Analysis\\\\News for CNN\\\\cnn\\\\covid1\\\\covid-19 87.html',\n",
       " 'C:\\\\Users\\\\saksh\\\\Sentiment Analysis\\\\News for CNN\\\\cnn\\\\covid1\\\\covid-19 88.html',\n",
       " 'C:\\\\Users\\\\saksh\\\\Sentiment Analysis\\\\News for CNN\\\\cnn\\\\covid1\\\\covid-19 89.html',\n",
       " 'C:\\\\Users\\\\saksh\\\\Sentiment Analysis\\\\News for CNN\\\\cnn\\\\covid1\\\\covid-19 9.html',\n",
       " 'C:\\\\Users\\\\saksh\\\\Sentiment Analysis\\\\News for CNN\\\\cnn\\\\covid1\\\\covid-19 90.html',\n",
       " 'C:\\\\Users\\\\saksh\\\\Sentiment Analysis\\\\News for CNN\\\\cnn\\\\covid1\\\\covid-19 91.html',\n",
       " 'C:\\\\Users\\\\saksh\\\\Sentiment Analysis\\\\News for CNN\\\\cnn\\\\covid1\\\\covid-19 92.html',\n",
       " 'C:\\\\Users\\\\saksh\\\\Sentiment Analysis\\\\News for CNN\\\\cnn\\\\covid1\\\\covid-19 93.html',\n",
       " 'C:\\\\Users\\\\saksh\\\\Sentiment Analysis\\\\News for CNN\\\\cnn\\\\covid1\\\\covid-19 94.html',\n",
       " 'C:\\\\Users\\\\saksh\\\\Sentiment Analysis\\\\News for CNN\\\\cnn\\\\covid1\\\\covid-19 95.html',\n",
       " 'C:\\\\Users\\\\saksh\\\\Sentiment Analysis\\\\News for CNN\\\\cnn\\\\covid1\\\\covid-19 96.html',\n",
       " 'C:\\\\Users\\\\saksh\\\\Sentiment Analysis\\\\News for CNN\\\\cnn\\\\covid1\\\\covid-19 97.html',\n",
       " 'C:\\\\Users\\\\saksh\\\\Sentiment Analysis\\\\News for CNN\\\\cnn\\\\covid1\\\\covid-19 98.html',\n",
       " 'C:\\\\Users\\\\saksh\\\\Sentiment Analysis\\\\News for CNN\\\\cnn\\\\covid1\\\\covid-19 99.html']"
      ]
     },
     "execution_count": 22,
     "metadata": {},
     "output_type": "execute_result"
    }
   ],
   "source": [
    "cnn_covid_html_list"
   ]
  },
  {
   "cell_type": "code",
   "execution_count": 23,
   "metadata": {},
   "outputs": [
    {
     "data": {
      "application/vnd.jupyter.widget-view+json": {
       "model_id": "ae882d5ab34b45fa86f36a0322b90ded",
       "version_major": 2,
       "version_minor": 0
      },
      "text/plain": [
       "HBox(children=(FloatProgress(value=1.0, bar_style='info', max=1.0), HTML(value='')))"
      ]
     },
     "metadata": {},
     "output_type": "display_data"
    },
    {
     "name": "stdout",
     "output_type": "stream",
     "text": [
      "\n"
     ]
    }
   ],
   "source": [
    "headlines_covid = []\n",
    "time_covid = []\n",
    "link_covid = []\n",
    "result_body_covid = []\n",
    "\n",
    "for idx, cnn_covid_txt in notebook.tqdm(enumerate(cnn_covid_html_list)):\n",
    "    name_wdir3 = os.path.join(cnn_covid_file, cnn_covid_txt)\n",
    "    page_content = open(name_wdir2, \"r\", encoding=\"utf-8\").read()\n",
    "    soup = BeautifulSoup(page_content)\n",
    "    \n",
    "    # get the tags of headlines, links, published_dates, and contents\n",
    "    headline_tag = soup.find_all(class_ = 'cnn-search__result-headline')\n",
    "    links_tag = soup.find_all(class_ = 'cnn-search__result-headline')#['href']\n",
    "    time_tag = soup.find_all(class_ = 'cnn-search__result-publish-date')\n",
    "    result_body_tag = soup.find_all(class_ = 'cnn-search__result-body')\n",
    "    \n",
    "    # get the values of headlines, links, published_dates, and contents\n",
    "    links = [idx] * 10\n",
    "    result_body = [idx] * 10\n",
    "    times = [idx] * 10 \n",
    "    headlines = [idx] * 10\n",
    "    if len([*map(lambda x: ''.join(x.text.split('\\n')), headline_tag)]) != 0:\n",
    "        links = [*map(lambda x: x.a['href'], links_tag)]\n",
    "        headlines = [*map(lambda x: ''.join(x.text.split('\\n')), headline_tag)]\n",
    "        times = [*map(lambda x: ''.join(x.text.split('\\n')), time_tag)]\n",
    "        result_body = [*map(lambda x: ''.join(x.text.split('\\n')), result_body_tag)]\n",
    "    \n",
    "    # store values to the list\n",
    "    headlines_covid = headlines_covid + headlines\n",
    "    time_covid = time_covid + times\n",
    "    link_covid = link_covid + links\n",
    "    result_body_covid = result_body_covid + result_body"
   ]
  },
  {
   "cell_type": "code",
   "execution_count": 24,
   "metadata": {},
   "outputs": [],
   "source": [
    "search_covid_lost = pd.DataFrame(\n",
    "    {'headline': headlines_covid,\n",
    "     'published_date': time_covid,\n",
    "     'link': link_covid,\n",
    "     'content': result_body_covid\n",
    "    })"
   ]
  },
  {
   "cell_type": "code",
   "execution_count": 25,
   "metadata": {},
   "outputs": [],
   "source": [
    "lost_idx = search_covid.iloc[mask, :].index"
   ]
  },
  {
   "cell_type": "code",
   "execution_count": 26,
   "metadata": {},
   "outputs": [],
   "source": [
    "search_covid_test = search_covid.copy()"
   ]
  },
  {
   "cell_type": "code",
   "execution_count": 27,
   "metadata": {},
   "outputs": [],
   "source": [
    "for page in range(len(cnn_covid_html_list)):\n",
    "    lost_idx_iter = lost_idx[page*10 : (page + 1) * 10]\n",
    "    search_covid_test.iloc[lost_idx_iter,:] = search_covid_lost[page*10 : (page + 1) * 10]"
   ]
  },
  {
   "cell_type": "code",
   "execution_count": 28,
   "metadata": {},
   "outputs": [],
   "source": [
    "search_covid_test\n",
    "mask = [*map(lambda x: type(x) == int, search_covid_test['headline'])]\n",
    "lost_pages = np.array(search_covid_test[mask]['headline'].unique())"
   ]
  },
  {
   "cell_type": "code",
   "execution_count": 29,
   "metadata": {},
   "outputs": [],
   "source": [
    "search_covid_test.to_excel('CNN_covid-19_0408.xlsx')"
   ]
  }
 ],
 "metadata": {
  "kernelspec": {
   "display_name": "Python 3",
   "language": "python",
   "name": "python3"
  },
  "language_info": {
   "codemirror_mode": {
    "name": "ipython",
    "version": 3
   },
   "file_extension": ".py",
   "mimetype": "text/x-python",
   "name": "python",
   "nbconvert_exporter": "python",
   "pygments_lexer": "ipython3",
   "version": "3.7.6"
  }
 },
 "nbformat": 4,
 "nbformat_minor": 4
}
